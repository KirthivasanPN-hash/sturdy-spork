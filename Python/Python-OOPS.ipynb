{
 "cells": [
  {
   "cell_type": "markdown",
   "id": "ea61543f-4562-467c-aaab-50fb1399299c",
   "metadata": {},
   "source": [
    "# Object Oriented programming\n",
    "\n",
    "Objects\n",
    "\n",
    "Using the class keyword\n",
    "\n",
    "Creating class attributes\n",
    "\n",
    "Creating methods in a class\n",
    "\n",
    "Learning about Inheritance\n",
    "\n",
    "Learning about Polymorphism\n",
    "\n",
    "Learning about Special Methods for classes"
   ]
  },
  {
   "cell_type": "markdown",
   "id": "078cba38-77f1-4e7a-a73f-b75cf6d7c298",
   "metadata": {},
   "source": [
    "# Object\n",
    "An Object is an instance of a Class. \n",
    "\n",
    "A class is like a blueprint while an instance is a copy of the class with actual values.\n",
    "\n",
    "An object consists of:\n",
    "State: It is represented by the attributes of an object. It also reflects the properties of an object.\n",
    "Behavior: It is represented by the methods of an object. It also reflects the response of an object to other objects.\n",
    "Identity: It gives a unique name to an object and enables one object to interact with other objects."
   ]
  },
  {
   "cell_type": "markdown",
   "id": "aaefc958-79c4-4c49-94a2-457b398f0b9f",
   "metadata": {},
   "source": [
    "# Declaring Claas Objects (Also called instantiating a class)\n",
    "\n",
    "When an object of a class is created, the class is said to be instantiated. All the instances share the attributes and the behavior of the class. But the values of those attributes, i.e. the state are unique for each object. A single class may have any number of instances."
   ]
  },
  {
   "cell_type": "markdown",
   "id": "9ba3a5f2-cf50-43d9-90c1-8087befa4b41",
   "metadata": {},
   "source": [
    "# Class\n",
    "\n",
    "Creating an object in Python involves instantiating a class to create a new instance of that class. \n",
    "\n",
    "This process is also referred to as object instantiation."
   ]
  },
  {
   "cell_type": "code",
   "execution_count": 4,
   "id": "1feeb363-125e-4eeb-9846-a3a40a30440b",
   "metadata": {},
   "outputs": [
    {
     "name": "stdout",
     "output_type": "stream",
     "text": [
      "CS\n",
      "I'm a monster in CS\n"
     ]
    }
   ],
   "source": [
    "class test:\n",
    "    attr1 = \"CS\"\n",
    "    attr2 = \"DS\"\n",
    "\n",
    "    def fun(self):\n",
    "        print (\"I'm a monster in\", self.attr1)\n",
    "\n",
    "testing  = test()\n",
    "print(testing.attr1)\n",
    "testing.fun()\n"
   ]
  },
  {
   "cell_type": "markdown",
   "id": "eda0e552-1c7d-4b2c-ab33-84c7e004f0a2",
   "metadata": {},
   "source": [
    "# Attributes\n",
    "\n",
    "The syntax for creating an attribute is:\n",
    "\n",
    "self.attribute = something\n",
    "\n",
    "There is a special method called:\n",
    "\n",
    "__init__()\n",
    "\n",
    "This method is used to initialize the attributes of an object. For example:"
   ]
  },
  {
   "cell_type": "code",
   "execution_count": 15,
   "id": "98b31232-18f5-4952-ab44-e7ec9127c952",
   "metadata": {},
   "outputs": [
    {
     "name": "stdout",
     "output_type": "stream",
     "text": [
      "See my name Sushant and 345678\n"
     ]
    }
   ],
   "source": [
    "# another example using init\n",
    "class uses:\n",
    "    def __init__(self,name,id):\n",
    "        self.name = name\n",
    "        self.id = id\n",
    "\n",
    "    def show(self):\n",
    "        print(\"See my name\", self.name, \"and\", self.id)\n",
    "\n",
    "using = uses(\"Sushant\",345678)\n",
    "using.show()"
   ]
  },
  {
   "cell_type": "markdown",
   "id": "5b046fe0-19b3-4879-8b95-ba15073db1af",
   "metadata": {},
   "source": [
    "# Methods\n",
    "\n",
    "Methods are functions defined inside the body of a class. They are used to perform operations with the attributes of our objects. Methods are a key concept of the OOP paradigm. They are essential to dividing responsibilities in programming, especially in large applications.\n",
    "\n",
    "You can basically think of methods as functions acting on an Object that take the Object itself into account through its self argument.\n",
    "\n",
    "Let's go through an example of creating a Circle class:"
   ]
  },
  {
   "cell_type": "code",
   "execution_count": 16,
   "id": "0a6a3fc0-049a-4df0-87d4-402175d6029a",
   "metadata": {},
   "outputs": [
    {
     "name": "stdout",
     "output_type": "stream",
     "text": [
      "Radius is:  1\n",
      "Area is:  3.14\n",
      "Circumference is:  6.28\n"
     ]
    }
   ],
   "source": [
    "class Circle:\n",
    "    pi = 3.14\n",
    "\n",
    "    # Circle gets instantiated with a radius (default is 1)\n",
    "    def __init__(self, radius=1):\n",
    "        self.radius = radius \n",
    "        self.area = radius * radius * Circle.pi\n",
    "\n",
    "    # Method for resetting Radius\n",
    "    def setRadius(self, new_radius):\n",
    "        self.radius = new_radius\n",
    "        self.area = new_radius * new_radius * self.pi\n",
    "\n",
    "    # Method for getting Circumference\n",
    "    def getCircumference(self):\n",
    "        return self.radius * self.pi * 2\n",
    "\n",
    "\n",
    "c = Circle()\n",
    "\n",
    "print('Radius is: ',c.radius)\n",
    "print('Area is: ',c.area)\n",
    "print('Circumference is: ',c.getCircumference())"
   ]
  },
  {
   "cell_type": "markdown",
   "id": "a43f7f9e-a571-4bee-a4ff-b263f86e6797",
   "metadata": {},
   "source": [
    "# Inheritance\n",
    "\n",
    "\n"
   ]
  },
  {
   "cell_type": "code",
   "execution_count": 7,
   "id": "097ca975-3d29-4f9a-938f-28102530154c",
   "metadata": {},
   "outputs": [],
   "source": [
    "# example of inheritance\n",
    "\n",
    "class Base:\n",
    "    def __init__(self):\n",
    "        print(\"this is a base class\")\n",
    "\n",
    "    def action(self):\n",
    "        print(\"I can be derived\")\n",
    "\n",
    "    def process(self):\n",
    "        print(\"I can be called by instantiating me\")\n",
    "\n",
    "\n",
    "class Derived(Base):\n",
    "\n",
    "    def __init__(self):\n",
    "        Base.__init__(self)\n",
    "        print(\"Derived class created\")\n",
    "\n",
    "    def action(self):\n",
    "        print(\"I'm derived from base\")\n",
    "\n",
    "    def process(self):\n",
    "        print(\"I can invoked by objects\")\n",
    "    \n"
   ]
  },
  {
   "cell_type": "code",
   "execution_count": 8,
   "id": "519d7ecb-db42-4cf2-a571-5f71df683ca7",
   "metadata": {},
   "outputs": [
    {
     "name": "stdout",
     "output_type": "stream",
     "text": [
      "this is a base class\n",
      "Derived class created\n"
     ]
    }
   ],
   "source": [
    "d = Derived()"
   ]
  },
  {
   "cell_type": "code",
   "execution_count": 9,
   "id": "870f916b-1c3f-452d-bec6-7eb9ce8c08c8",
   "metadata": {},
   "outputs": [
    {
     "name": "stdout",
     "output_type": "stream",
     "text": [
      "I'm derived from base\n"
     ]
    }
   ],
   "source": [
    "d.action()"
   ]
  },
  {
   "cell_type": "code",
   "execution_count": 10,
   "id": "f5c3f4a7-3610-4355-baa9-d1729d0a8a2f",
   "metadata": {},
   "outputs": [
    {
     "name": "stdout",
     "output_type": "stream",
     "text": [
      "this is a base class\n"
     ]
    }
   ],
   "source": [
    "g = Base()"
   ]
  },
  {
   "cell_type": "markdown",
   "id": "d803816f-5416-4faf-9999-543bd86ae297",
   "metadata": {},
   "source": [
    "#Polymorphism\n",
    "\n",
    "We've learned that while functions can take in different arguments,\n",
    "\n",
    "methods belong to the objects they act on. \n",
    "\n",
    "In Python, polymorphism refers to the way in which different object classes can share the same method name, and those methods can be called from the same place even though a variety of different objects might be passed in. \n",
    "\n",
    "The best way to explain this is by example:"
   ]
  },
  {
   "cell_type": "code",
   "execution_count": 12,
   "id": "6189bd6e-cb0b-469e-83ce-2e37f4e237e1",
   "metadata": {},
   "outputs": [
    {
     "name": "stdout",
     "output_type": "stream",
     "text": [
      "Niko says different names!\n",
      "Felix says different parameters!\n"
     ]
    }
   ],
   "source": [
    "class poly:\n",
    "    def __init__(self, name):\n",
    "        self.name = name\n",
    "\n",
    "    def speak(self):\n",
    "        return self.name+' says different names!'\n",
    "    \n",
    "class poly1:\n",
    "    def __init__(self, name):\n",
    "        self.name = name\n",
    "\n",
    "    def speak(self):\n",
    "        return self.name+' says different parameters!' \n",
    "    \n",
    "niko = poly('Niko')\n",
    "felix = poly1('Felix')\n",
    "\n",
    "print(niko.speak())\n",
    "print(felix.speak())"
   ]
  },
  {
   "cell_type": "markdown",
   "id": "73000c26-033c-4eb3-a28e-cb2bcf7e2b4f",
   "metadata": {},
   "source": [
    "In both cases we were able to pass in different object types, and we obtained object-specific results from the same mechanism.\n",
    "\n",
    "A more common practice is to use abstract classes and inheritance. An abstract class is one that never expects to be instantiated. For example, we will never have an Animal object, only Dog and Cat objects, although Dogs and Cats are derived from Animals:"
   ]
  },
  {
   "cell_type": "code",
   "execution_count": 17,
   "id": "a0b724df-077b-441e-928e-a1f160b7f253",
   "metadata": {},
   "outputs": [
    {
     "name": "stdout",
     "output_type": "stream",
     "text": [
      "Fido says Woof!\n",
      "Isis says Meow!\n"
     ]
    }
   ],
   "source": [
    "class Animal:\n",
    "    def __init__(self, name):    # Constructor of the class\n",
    "        self.name = name\n",
    "\n",
    "    def speak(self):              # Abstract method, defined by convention only\n",
    "        raise NotImplementedError(\"Subclass must implement abstract method\")\n",
    "\n",
    "\n",
    "class Dog(Animal):\n",
    "    \n",
    "    def speak(self):\n",
    "        return self.name+' says Woof!'\n",
    "    \n",
    "class Cat(Animal):\n",
    "\n",
    "    def speak(self):\n",
    "        return self.name+' says Meow!'\n",
    "    \n",
    "fido = Dog('Fido')\n",
    "isis = Cat('Isis')\n",
    "\n",
    "print(fido.speak())\n",
    "print(isis.speak())"
   ]
  },
  {
   "cell_type": "markdown",
   "id": "cce6c8d1-f1ad-4303-92da-bbc96ed87e2c",
   "metadata": {},
   "source": [
    "# Special Methods\n",
    "\n",
    "Finally let's go over special methods. \n",
    "\n",
    "Classes in Python can implement certain operations with special method names. \n",
    "\n",
    "These methods are not actually called directly but by Python specific language syntax. \n",
    "\n",
    "For example let's create a Book class:"
   ]
  },
  {
   "cell_type": "code",
   "execution_count": 15,
   "id": "4cc08c65-5d3e-436c-953a-de0cd6537bab",
   "metadata": {},
   "outputs": [],
   "source": [
    "class Book:\n",
    "\n",
    "    def  __init__(self,title,author,pages):\n",
    "        print(\" A book is created\")\n",
    "        self.title = title\n",
    "        self.author = author\n",
    "        self.pages = pages\n",
    "\n",
    "    def __str__(self):\n",
    "        return \"Title %s, author %s, pages %s\" %(self.title, self.author, self.pages)\n",
    "\n",
    "    def __len__(self):\n",
    "        return self.pages\n",
    "\n",
    "    def __del__(self):\n",
    "        print(\"the book is destroyed\")\n",
    "        "
   ]
  },
  {
   "cell_type": "code",
   "execution_count": 16,
   "id": "7d03bbb0-c8f0-439c-8104-52468e788150",
   "metadata": {},
   "outputs": [
    {
     "name": "stdout",
     "output_type": "stream",
     "text": [
      " A book is created\n",
      "Title Python resources, author Kirthivasan, pages 123\n",
      "123\n",
      "the book is destroyed\n"
     ]
    }
   ],
   "source": [
    "b = Book(\"Python resources\",\"Kirthivasan\",123)\n",
    "\n",
    "print(b)\n",
    "print(len(b))\n",
    "del b"
   ]
  }
 ],
 "metadata": {
  "kernelspec": {
   "display_name": "Python 3 (ipykernel)",
   "language": "python",
   "name": "python3"
  },
  "language_info": {
   "codemirror_mode": {
    "name": "ipython",
    "version": 3
   },
   "file_extension": ".py",
   "mimetype": "text/x-python",
   "name": "python",
   "nbconvert_exporter": "python",
   "pygments_lexer": "ipython3",
   "version": "3.11.4"
  }
 },
 "nbformat": 4,
 "nbformat_minor": 5
}
