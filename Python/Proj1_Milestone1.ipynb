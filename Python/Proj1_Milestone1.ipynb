{
 "cells": [
  {
   "cell_type": "markdown",
   "id": "6b4a1aa5",
   "metadata": {},
   "source": [
    "## Steps to create a TicTacToe game:\n",
    "1. printing the matrix using list\n",
    "2. function to fetch the input and store it in the list\n",
    "3. function to check if the value is already stored and then tell the user to enter another position\n",
    "4. function to keep the game going"
   ]
  },
  {
   "cell_type": "code",
   "execution_count": 4,
   "id": "efb35f6e",
   "metadata": {},
   "outputs": [
    {
     "name": "stdout",
     "output_type": "stream",
     "text": [
      "Enter the row size: 3\n",
      "Enter the column size: 3\n",
      "[['#', '#', '#'], ['#', '#', '#'], ['#', '#', '#']]\n",
      "<class 'list'>\n",
      "[['#', '#', '#'], ['#', '#', '#'], ['#', '#', '#']]\n"
     ]
    }
   ],
   "source": [
    "# creating a matrix \n",
    "def board():\n",
    "    rows = int(input(\"Enter the row size: \"))\n",
    "    cols = int(input(\"Enter the column size: \"))\n",
    "    global matrix\n",
    "    matrix = []\n",
    "    for i in range(rows):\n",
    "        rows = []\n",
    "        for j in range(cols):\n",
    "            rows.append('#')\n",
    "        matrix.append(rows)\n",
    "    print(matrix)\n",
    "    print(type(matrix))\n",
    "    \n",
    "board()\n",
    "print(matrix)"
   ]
  },
  {
   "cell_type": "code",
   "execution_count": 2,
   "id": "7e193158",
   "metadata": {
    "scrolled": true
   },
   "outputs": [
    {
     "name": "stdout",
     "output_type": "stream",
     "text": [
      "This is 2 player game:  \n",
      "Enter the row you want to insert player 1: 1\n",
      "Enter the column you want to insert player 1: 1\n",
      "Enter the value you want to insert player 1: @\n",
      "# # #\n",
      "# @ #\n",
      "# # #\n",
      "Enter the row you want to insert player 2: 1\n",
      "Enter the column you want to insert player 2: 1\n",
      "Enter the value you want to insert player 2: $\n",
      "oops try again the position has already been entered \n",
      "Enter the row you want to insert player 2: 1\n",
      "Enter the column you want to insert player 2: 0\n",
      "Enter the value you want to insert player 2: $\n",
      "oops try again the position has already been entered \n",
      "# # #\n",
      "$ @ #\n",
      "# # #\n"
     ]
    }
   ],
   "source": [
    "# creating a function to fetch input and store itin the list\n",
    "# there should be 2 players \n",
    "\n",
    "\n",
    "matrix = [['#', '#', '#'], \n",
    "          ['#', '#', '#'], \n",
    "          ['#', '#', '#']]\n",
    "\n",
    "def input_choice():\n",
    "    print(\"This is 2 player game:  \")\n",
    "    \n",
    "    \n",
    "    rows1 = int(input(\"Enter the row you want to insert player 1: \"))\n",
    "    cols1 = int(input(\"Enter the column you want to insert player 1: \"))\n",
    "    value = (input(\"Enter the value you want to insert player 1: \"))\n",
    "    matrix[rows1][cols1] = value\n",
    "    for row in matrix:\n",
    "        print(' '.join(str(elem) for elem in row))\n",
    "        choice = False\n",
    "        \n",
    "    while choice==False:\n",
    "        rows2 = int(input(\"Enter the row you want to insert player 2: \"))\n",
    "        cols2 = int(input(\"Enter the column you want to insert player 2: \"))\n",
    "        value = (input(\"Enter the value you want to insert player 2: \"))\n",
    "        print(\"oops try again the position has already been entered \")\n",
    "        if cols1!=cols2 or rows1!=rows2:\n",
    "            matrix[rows2][cols2] = value\n",
    "            choice = True\n",
    "            \n",
    "    for row in matrix:\n",
    "        print(' '.join(str(elem) for elem in row))\n",
    "    \n",
    "    \n",
    "\n",
    "input_choice()\n",
    "    "
   ]
  },
  {
   "cell_type": "code",
   "execution_count": 7,
   "id": "0d5daa91",
   "metadata": {},
   "outputs": [
    {
     "ename": "TypeError",
     "evalue": "object of type 'int' has no len()",
     "output_type": "error",
     "traceback": [
      "\u001b[1;31m---------------------------------------------------------------------------\u001b[0m",
      "\u001b[1;31mTypeError\u001b[0m                                 Traceback (most recent call last)",
      "Cell \u001b[1;32mIn[7], line 14\u001b[0m\n\u001b[0;32m     11\u001b[0m                 \u001b[38;5;28;01mreturn\u001b[39;00m true\n\u001b[0;32m     12\u001b[0m         \u001b[38;5;28;01mreturn\u001b[39;00m \u001b[38;5;28;01mFalse\u001b[39;00m\n\u001b[1;32m---> 14\u001b[0m \u001b[43mwinner\u001b[49m\u001b[43m(\u001b[49m\u001b[43mmatrix\u001b[49m\u001b[43m)\u001b[49m\n",
      "Cell \u001b[1;32mIn[7], line 9\u001b[0m, in \u001b[0;36mwinner\u001b[1;34m(matrix)\u001b[0m\n\u001b[0;32m      7\u001b[0m \u001b[38;5;28;01mdef\u001b[39;00m \u001b[38;5;21mwinner\u001b[39m(matrix):\n\u001b[0;32m      8\u001b[0m     \u001b[38;5;28;01mfor\u001b[39;00m row \u001b[38;5;129;01min\u001b[39;00m \u001b[38;5;28mrange\u001b[39m(\u001b[38;5;28mlen\u001b[39m(matrix)\u001b[38;5;241m-\u001b[39m\u001b[38;5;241m1\u001b[39m):\n\u001b[1;32m----> 9\u001b[0m         \u001b[38;5;28;01mfor\u001b[39;00m ele \u001b[38;5;129;01min\u001b[39;00m \u001b[38;5;28mrange\u001b[39m(\u001b[38;5;28;43mlen\u001b[39;49m\u001b[43m(\u001b[49m\u001b[43mrow\u001b[49m\u001b[43m)\u001b[49m\u001b[38;5;241m-\u001b[39m\u001b[38;5;241m1\u001b[39m):\n\u001b[0;32m     10\u001b[0m             \u001b[38;5;28;01mif\u001b[39;00m row[ele]\u001b[38;5;241m==\u001b[39mrow[ele\u001b[38;5;241m+\u001b[39m\u001b[38;5;241m1\u001b[39m]:\n\u001b[0;32m     11\u001b[0m                 \u001b[38;5;28;01mreturn\u001b[39;00m true\n",
      "\u001b[1;31mTypeError\u001b[0m: object of type 'int' has no len()"
     ]
    }
   ],
   "source": [
    "# logic for choosing the winner\n",
    "# check if al elements in row of are same\n",
    "matrix = [[1, 2, 3], \n",
    "          [4, 4, 4], \n",
    "          [5, 6, 7]]\n"
   ]
  },
  {
   "cell_type": "code",
   "execution_count": null,
   "id": "0bd4cbaa",
   "metadata": {},
   "outputs": [],
   "source": []
  }
 ],
 "metadata": {
  "kernelspec": {
   "display_name": "detectionz",
   "language": "python",
   "name": "detectionz"
  },
  "language_info": {
   "codemirror_mode": {
    "name": "ipython",
    "version": 3
   },
   "file_extension": ".py",
   "mimetype": "text/x-python",
   "name": "python",
   "nbconvert_exporter": "python",
   "pygments_lexer": "ipython3",
   "version": "3.9.16"
  }
 },
 "nbformat": 4,
 "nbformat_minor": 5
}
