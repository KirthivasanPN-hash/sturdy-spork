{
 "cells": [
  {
   "cell_type": "markdown",
   "id": "c37bd04d",
   "metadata": {},
   "source": [
    "## 20 Valid Parentheses\n",
    "\n",
    "https://leetcode.com/problems/valid-parentheses/\n"
   ]
  },
  {
   "cell_type": "code",
   "execution_count": 2,
   "id": "0eb24499",
   "metadata": {},
   "outputs": [
    {
     "data": {
      "text/plain": [
       "['{}[]()']"
      ]
     },
     "execution_count": 2,
     "metadata": {},
     "output_type": "execute_result"
    }
   ],
   "source": [
    "strs = \"{}[]()\"\n",
    "strs.split()"
   ]
  },
  {
   "cell_type": "code",
   "execution_count": null,
   "id": "a370e262",
   "metadata": {},
   "outputs": [],
   "source": []
  }
 ],
 "metadata": {
  "kernelspec": {
   "display_name": "detectionz",
   "language": "python",
   "name": "detectionz"
  },
  "language_info": {
   "codemirror_mode": {
    "name": "ipython",
    "version": 3
   },
   "file_extension": ".py",
   "mimetype": "text/x-python",
   "name": "python",
   "nbconvert_exporter": "python",
   "pygments_lexer": "ipython3",
   "version": "3.9.16"
  }
 },
 "nbformat": 4,
 "nbformat_minor": 5
}
