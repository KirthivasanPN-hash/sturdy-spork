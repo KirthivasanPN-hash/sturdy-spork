{
 "cells": [
  {
   "cell_type": "markdown",
   "id": "08a78962",
   "metadata": {},
   "source": [
    "# Class\n",
    "\n",
    "1. It can be created using class keyword\n",
    "2. Class is a blueprint\n",
    "3. From classes we can create instances\n",
    "4. Instance is a specific object that can be created during "
   ]
  },
  {
   "cell_type": "code",
   "execution_count": null,
   "id": "ab948db4",
   "metadata": {},
   "outputs": [],
   "source": []
  }
 ],
 "metadata": {
  "kernelspec": {
   "display_name": "detectionz",
   "language": "python",
   "name": "detectionz"
  },
  "language_info": {
   "codemirror_mode": {
    "name": "ipython",
    "version": 3
   },
   "file_extension": ".py",
   "mimetype": "text/x-python",
   "name": "python",
   "nbconvert_exporter": "python",
   "pygments_lexer": "ipython3",
   "version": "3.9.16"
  }
 },
 "nbformat": 4,
 "nbformat_minor": 5
}
