{
 "cells": [
  {
   "cell_type": "markdown",
   "id": "6e14f813",
   "metadata": {},
   "source": [
    "# Nested Statements and Scope\n",
    "\n",
    "\n",
    "\n",
    "This idea of scope in your code is very important to understand in order to properly assign and call variable names.\n",
    "\n",
    "In simple terms, the idea of scope can be described by 3 general rules:\n",
    "\n",
    "    Name assignments will create or change local names by default.\n",
    "    Name references search (at most) four scopes, these are:\n",
    "        local\n",
    "        enclosing functions\n",
    "        global\n",
    "        built-in\n",
    "    Names declared in global and nonlocal statements map assigned names to enclosing module and function scopes.\n",
    "\n",
    "The statement in #2 above can be defined by the LEGB rule.\n",
    "\n",
    "LEGB Rule:\n",
    "\n",
    "L: Local — Names assigned in any way within a function (def or lambda), and not declared global in that function.\n",
    "\n",
    "E: Enclosing function locals — Names in the local scope of any and all enclosing functions (def or lambda), from inner to outer.\n",
    "\n",
    "G: Global (module) — Names assigned at the top-level of a module file, or declared global in a def within the file.\n",
    "\n",
    "B: Built-in (Python) — Names preassigned in the built-in names module : open, range, SyntaxError,...\n",
    "\n",
    "\n",
    "# Local"
   ]
  },
  {
   "cell_type": "code",
   "execution_count": 1,
   "id": "368b9274",
   "metadata": {},
   "outputs": [],
   "source": [
    "# x is local\n",
    "f = lambda x : x**2"
   ]
  },
  {
   "cell_type": "markdown",
   "id": "55e4dc66",
   "metadata": {},
   "source": [
    "# Enclosing function locals\n",
    "\n",
    "This occurs when we have a function inside a function (nested functions)\n"
   ]
  },
  {
   "cell_type": "code",
   "execution_count": 15,
   "id": "c454e06d",
   "metadata": {},
   "outputs": [
    {
     "name": "stdout",
     "output_type": "stream",
     "text": [
      "Hello Kirthivasan\n"
     ]
    }
   ],
   "source": [
    "names = \"Saudi Arabia\"\n",
    "\n",
    "def msg():\n",
    "    # enclosed function\n",
    "    name = 'Kirthivasan'\n",
    "    def greet():\n",
    "        print('Hello '+name)\n",
    "    greet()\n",
    "msg()"
   ]
  },
  {
   "cell_type": "markdown",
   "id": "2d24884f",
   "metadata": {},
   "source": [
    "# Global"
   ]
  },
  {
   "cell_type": "code",
   "execution_count": 16,
   "id": "55f1a5ba",
   "metadata": {},
   "outputs": [
    {
     "name": "stdout",
     "output_type": "stream",
     "text": [
      "Saudi Arabia\n"
     ]
    }
   ],
   "source": [
    "# Luckily in Jupyter a quick way to test for global variables is to see if another cell recognizes the variable!\n",
    "print(names)"
   ]
  },
  {
   "cell_type": "markdown",
   "id": "1a4aa898",
   "metadata": {},
   "source": [
    "# Built-in\n",
    "\n",
    "don't name them as variables"
   ]
  },
  {
   "cell_type": "markdown",
   "id": "c1b86b2d",
   "metadata": {},
   "source": [
    "# Local Variables\n",
    "\n",
    "1. When you declare variables inside a function definition, they are not related in any way to other variables with the same names used outside the function - i.e. variable names are local to the function. \n",
    "2. This is called the scope of the variable. All variables have the scope of the block they are declared in starting from the point of definition of the name."
   ]
  },
  {
   "cell_type": "code",
   "execution_count": 21,
   "id": "a0034163",
   "metadata": {},
   "outputs": [
    {
     "name": "stdout",
     "output_type": "stream",
     "text": [
      "x is 50\n",
      "Changed local var is 2\n",
      "when accessing the value outside the function the value is same: 50\n"
     ]
    }
   ],
   "source": [
    "x = 50\n",
    "def num(x):\n",
    "    print('x is', x)\n",
    "    x=2\n",
    "    print('Changed local var is', x)\n",
    "num(50)\n",
    "print('when accessing the value outside the function the value is same:',x)"
   ]
  },
  {
   "cell_type": "markdown",
   "id": "e07e486a",
   "metadata": {},
   "source": [
    "# The global statement\n",
    "\n",
    "1. You can use the values of such variables defined outside the function (assuming there is no variable with the same name within the function).\n",
    "2. However, this is not encouraged and should be avoided since it becomes unclear to the reader of the program as to where that variable’s definition is. Using the global statement makes it amply clear that the variable is defined in an outermost block.\n",
    "\n",
    "Example:"
   ]
  },
  {
   "cell_type": "code",
   "execution_count": 22,
   "id": "831e4c14",
   "metadata": {},
   "outputs": [
    {
     "name": "stdout",
     "output_type": "stream",
     "text": [
      "Before calling func(), x is:  50\n",
      "This function is now using the global x!\n",
      "Because of global x is:  50\n",
      "Ran func(), changed global x to 2\n",
      "Value of x (outside of func()) is:  2\n"
     ]
    }
   ],
   "source": [
    "x = 50\n",
    "\n",
    "def func():\n",
    "    global x\n",
    "    print('This function is now using the global x!')\n",
    "    print('Because of global x is: ', x)\n",
    "    x = 2\n",
    "    print('Ran func(), changed global x to', x)\n",
    "\n",
    "print('Before calling func(), x is: ', x)\n",
    "func()\n",
    "print('Value of x (outside of func()) is: ', x)"
   ]
  },
  {
   "cell_type": "code",
   "execution_count": null,
   "id": "04679434",
   "metadata": {},
   "outputs": [],
   "source": []
  }
 ],
 "metadata": {
  "kernelspec": {
   "display_name": "detectionz",
   "language": "python",
   "name": "detectionz"
  },
  "language_info": {
   "codemirror_mode": {
    "name": "ipython",
    "version": 3
   },
   "file_extension": ".py",
   "mimetype": "text/x-python",
   "name": "python",
   "nbconvert_exporter": "python",
   "pygments_lexer": "ipython3",
   "version": "3.9.16"
  }
 },
 "nbformat": 4,
 "nbformat_minor": 5
}
