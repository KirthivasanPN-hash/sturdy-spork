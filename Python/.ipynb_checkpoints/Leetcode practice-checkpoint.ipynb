{
 "cells": [
  {
   "cell_type": "markdown",
   "id": "79899e78",
   "metadata": {},
   "source": [
    "## 20 Valid Parentheses\n",
    "\n",
    "https://leetcode.com/problems/valid-parentheses/\n"
   ]
  },
  {
   "cell_type": "code",
   "execution_count": null,
   "id": "028aba53",
   "metadata": {},
   "outputs": [],
   "source": []
  }
 ],
 "metadata": {
  "kernelspec": {
   "display_name": "detectionz",
   "language": "python",
   "name": "detectionz"
  },
  "language_info": {
   "codemirror_mode": {
    "name": "ipython",
    "version": 3
   },
   "file_extension": ".py",
   "mimetype": "text/x-python",
   "name": "python",
   "nbconvert_exporter": "python",
   "pygments_lexer": "ipython3",
   "version": "3.9.16"
  }
 },
 "nbformat": 4,
 "nbformat_minor": 5
}
