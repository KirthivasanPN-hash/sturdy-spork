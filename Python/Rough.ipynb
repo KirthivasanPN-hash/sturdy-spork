{
 "cells": [
  {
   "cell_type": "code",
   "execution_count": 9,
   "id": "695713f0",
   "metadata": {},
   "outputs": [
    {
     "data": {
      "text/plain": [
       "False"
      ]
     },
     "execution_count": 9,
     "metadata": {},
     "output_type": "execute_result"
    }
   ],
   "source": [
    "def arrange_anagrams(strings):\n",
    "    sorted_strings = [\"\".join(sorted(s)) for s in strings]\n",
    "    return len(set(sorted_strings))==1\n",
    "\n",
    "strings = ['listen','silent','state','taste']\n",
    "\n",
    "arrange_anagrams(strings)"
   ]
  },
  {
   "cell_type": "code",
   "execution_count": null,
   "id": "f6b8d88f",
   "metadata": {},
   "outputs": [],
   "source": []
  }
 ],
 "metadata": {
  "kernelspec": {
   "display_name": "detectionz",
   "language": "python",
   "name": "detectionz"
  },
  "language_info": {
   "codemirror_mode": {
    "name": "ipython",
    "version": 3
   },
   "file_extension": ".py",
   "mimetype": "text/x-python",
   "name": "python",
   "nbconvert_exporter": "python",
   "pygments_lexer": "ipython3",
   "version": "3.9.16"
  }
 },
 "nbformat": 4,
 "nbformat_minor": 5
}
