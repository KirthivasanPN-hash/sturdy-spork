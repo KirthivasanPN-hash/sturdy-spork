{
 "cells": [
  {
   "cell_type": "markdown",
   "id": "a6869c81",
   "metadata": {},
   "source": [
    "# Methods and Functions practice"
   ]
  },
  {
   "cell_type": "markdown",
   "id": "74d5d5fb",
   "metadata": {},
   "source": [
    "Create a game similar to which cup has the ball"
   ]
  },
  {
   "cell_type": "markdown",
   "id": "306b3be9",
   "metadata": {},
   "source": [
    "Interaction between functions \n",
    "1. First we create a shuffle func\n",
    "2. We then create a func to fetch the correct options\n",
    "3. Finally we create a function to check the players guess"
   ]
  },
  {
   "cell_type": "code",
   "execution_count": 1,
   "id": "f9d50f2d",
   "metadata": {},
   "outputs": [],
   "source": [
    "# shuffle function\n",
    "from random import shuffle\n",
    "my_lst = ['O','','']\n",
    "\n",
    "def shuffle_lst(any_lst):\n",
    "    shuffle(any_lst)\n",
    "    return any_lst"
   ]
  },
  {
   "cell_type": "code",
   "execution_count": 2,
   "id": "2b0db793",
   "metadata": {},
   "outputs": [
    {
     "data": {
      "text/plain": [
       "['O', '', '']"
      ]
     },
     "execution_count": 2,
     "metadata": {},
     "output_type": "execute_result"
    }
   ],
   "source": [
    "shuffle_lst(my_lst)"
   ]
  },
  {
   "cell_type": "code",
   "execution_count": 6,
   "id": "7d9266a1",
   "metadata": {},
   "outputs": [],
   "source": [
    "# check player_option function\n",
    "\n",
    "def player_check():\n",
    "    \n",
    "    guess = ''\n",
    "    while guess not in ['0','1','2']:\n",
    "        guess = input(\"Pick a number from 0,1 or 2: \")\n",
    "    \n",
    "    return int(guess) "
   ]
  },
  {
   "cell_type": "code",
   "execution_count": 8,
   "id": "82270e9e",
   "metadata": {},
   "outputs": [
    {
     "name": "stdout",
     "output_type": "stream",
     "text": [
      "Pick a number from 0,1 or 2: 4\n",
      "Pick a number from 0,1 or 2: 7\n",
      "Pick a number from 0,1 or 2: 1\n"
     ]
    },
    {
     "data": {
      "text/plain": [
       "1"
      ]
     },
     "execution_count": 8,
     "metadata": {},
     "output_type": "execute_result"
    }
   ],
   "source": [
    "player_check()"
   ]
  },
  {
   "cell_type": "code",
   "execution_count": 10,
   "id": "d82cef14",
   "metadata": {},
   "outputs": [],
   "source": [
    "# now to check the users guess\n",
    "def check_guess(any_lst, guess):\n",
    "    if any_lst[guess] == 'O':\n",
    "        print(\"Congrats! thats a correct guess\")\n",
    "    \n",
    "    else:\n",
    "        print(\"Ooops its wrong try again!\")\n",
    "        print(any_lst)"
   ]
  },
  {
   "cell_type": "code",
   "execution_count": 12,
   "id": "4135d3bc",
   "metadata": {},
   "outputs": [
    {
     "name": "stdout",
     "output_type": "stream",
     "text": [
      "Pick a number from 0,1 or 2: 3\n",
      "Pick a number from 0,1 or 2: 2\n",
      "Ooops its wrong try again!\n",
      "['', 'O', '']\n"
     ]
    }
   ],
   "source": [
    "# Initiating the functions\n",
    "my_lst = ['O','','']\n",
    "\n",
    "shuffled_lst = shuffle_lst(my_lst)\n",
    "\n",
    "guess = player_check()\n",
    "\n",
    "check_guess(shuffled_lst,guess)"
   ]
  },
  {
   "cell_type": "markdown",
   "id": "38ed88a4",
   "metadata": {},
   "source": [
    "# Function practice excercises\n",
    "\n",
    "    1. Warmup - these can be solved using basic comparisons and methods\n",
    "    2. Level 1 - these may involve if/then conditional statements and simple methods\n",
    "    3. Level 2 - these may require iterating over sequences, usually with some kind of loop\n",
    "    4. Challenging - these will take some creativity to solve\n"
   ]
  },
  {
   "cell_type": "markdown",
   "id": "9eb13c75",
   "metadata": {},
   "source": [
    "# Warmup"
   ]
  },
  {
   "cell_type": "code",
   "execution_count": 14,
   "id": "b8181ae4",
   "metadata": {},
   "outputs": [],
   "source": [
    "# lesser or 2 evens\n",
    "def grt_num(a,b):\n",
    "    if(a%2==0 and b%2==0):\n",
    "        return min(a,b)\n",
    "    else:\n",
    "        return max(a,b)"
   ]
  },
  {
   "cell_type": "code",
   "execution_count": 18,
   "id": "6990fb6c",
   "metadata": {},
   "outputs": [
    {
     "data": {
      "text/plain": [
       "11"
      ]
     },
     "execution_count": 18,
     "metadata": {},
     "output_type": "execute_result"
    }
   ],
   "source": [
    "grt_num(2,11)"
   ]
  },
  {
   "cell_type": "code",
   "execution_count": 77,
   "id": "5b608b1c",
   "metadata": {},
   "outputs": [],
   "source": [
    "#  a function takes a two-word string and returns True if both words begin with same letter\n",
    "def s_word(strs):\n",
    "    letter = []\n",
    "    for x in strs.split():\n",
    "        letter.append(x[0])\n",
    "    if letter[-1]==letter[-2]:\n",
    "        return True\n",
    "    return False"
   ]
  },
  {
   "cell_type": "code",
   "execution_count": 81,
   "id": "bc9c4db4",
   "metadata": {},
   "outputs": [
    {
     "data": {
      "text/plain": [
       "True"
      ]
     },
     "execution_count": 81,
     "metadata": {},
     "output_type": "execute_result"
    }
   ],
   "source": [
    "s_word('Malayalam Mars')"
   ]
  },
  {
   "cell_type": "code",
   "execution_count": 82,
   "id": "3dcba27e",
   "metadata": {},
   "outputs": [],
   "source": [
    "# another way\n",
    "def same_start_letter(words):\n",
    "    word_list = words.split()  # Split the input string into a list of words\n",
    "    if len(word_list) != 2:  # Check if there are exactly two words\n",
    "        return False\n",
    "    first_letter_word1 = word_list[0][0]  # Get the first letter of the first word\n",
    "    first_letter_word2 = word_list[1][0]  # Get the first letter of the second word\n",
    "    return first_letter_word1 == first_letter_word2  # Compare the first letters"
   ]
  },
  {
   "cell_type": "code",
   "execution_count": 5,
   "id": "a7b9b7ff",
   "metadata": {},
   "outputs": [],
   "source": [
    "# Given two integers, return True if the sum of the integers is 20 or if one of the integers is 20. If not, return False\n",
    "#done"
   ]
  },
  {
   "cell_type": "markdown",
   "id": "810fbe5b",
   "metadata": {},
   "source": [
    "# Level 1"
   ]
  },
  {
   "cell_type": "code",
   "execution_count": 31,
   "id": "a9fd7398",
   "metadata": {},
   "outputs": [],
   "source": [
    "# Write a function that capitalizes the first and fourth letters of a name\n",
    "\n",
    "def cap_func(strs):\n",
    "    result = \"\"\n",
    "    for i in strs.split():\n",
    "        result = result + i[0].upper()+i[1:5]+i[5].upper()+i[6:]\n",
    "        return result\n",
    "    "
   ]
  },
  {
   "cell_type": "code",
   "execution_count": 32,
   "id": "529cf167",
   "metadata": {},
   "outputs": [
    {
     "data": {
      "text/plain": [
       "'SaudiArabia'"
      ]
     },
     "execution_count": 32,
     "metadata": {},
     "output_type": "execute_result"
    }
   ],
   "source": [
    "cap_func('saudiarabia')"
   ]
  },
  {
   "cell_type": "code",
   "execution_count": 73,
   "id": "7b43668a",
   "metadata": {},
   "outputs": [],
   "source": [
    "# write a function to reverse\n",
    "def reverse_func(strs):\n",
    "   word = strs.split()\n",
    "   reverse_words = reversed(word)\n",
    "   result = ' '.join(reverse_words)\n",
    "   return result"
   ]
  },
  {
   "cell_type": "code",
   "execution_count": 74,
   "id": "7451dd22",
   "metadata": {},
   "outputs": [
    {
     "data": {
      "text/plain": [
       "'there! Hi'"
      ]
     },
     "execution_count": 74,
     "metadata": {},
     "output_type": "execute_result"
    }
   ],
   "source": [
    "reverse_func('Hi there!')"
   ]
  },
  {
   "cell_type": "code",
   "execution_count": 54,
   "id": "4df7493f",
   "metadata": {},
   "outputs": [],
   "source": [
    "# Given an integer n, return True if n is within 10 of either 100 or 200\n",
    "def num_check(num):\n",
    "    if abs(num-100)<=10 or abs(num-200)<=20:\n",
    "        return True\n",
    "    else:\n",
    "        return False"
   ]
  },
  {
   "cell_type": "code",
   "execution_count": 56,
   "id": "5b84814c",
   "metadata": {},
   "outputs": [
    {
     "data": {
      "text/plain": [
       "True"
      ]
     },
     "execution_count": 56,
     "metadata": {},
     "output_type": "execute_result"
    }
   ],
   "source": [
    "num_check(90)"
   ]
  },
  {
   "cell_type": "markdown",
   "id": "4b0df938",
   "metadata": {},
   "source": [
    "# Level 2"
   ]
  },
  {
   "cell_type": "markdown",
   "id": "b9908444",
   "metadata": {},
   "source": [
    "1. FIND 33:\n",
    "\n",
    "Given a list of ints, return True if the array contains a 3 next to a 3 somewhere."
   ]
  },
  {
   "cell_type": "code",
   "execution_count": 62,
   "id": "258c2006",
   "metadata": {},
   "outputs": [],
   "source": [
    "def has_33(list):\n",
    "    for i in range(len(list)-1):\n",
    "        if list[i] == 3 and list[i+1] == 3:\n",
    "            return True\n",
    "    return False"
   ]
  },
  {
   "cell_type": "code",
   "execution_count": 64,
   "id": "1859c655",
   "metadata": {},
   "outputs": [
    {
     "data": {
      "text/plain": [
       "False"
      ]
     },
     "execution_count": 64,
     "metadata": {},
     "output_type": "execute_result"
    }
   ],
   "source": [
    "has_33([1,3,1])"
   ]
  },
  {
   "cell_type": "markdown",
   "id": "242b1aef",
   "metadata": {},
   "source": [
    "2. PAPER DOLL:\n",
    "\n",
    "Given a string, return a string where for every character in the original there are three characters"
   ]
  },
  {
   "cell_type": "code",
   "execution_count": 69,
   "id": "42450598",
   "metadata": {},
   "outputs": [],
   "source": [
    "def l_extra(word):\n",
    "    result = ''\n",
    "    for i in word:\n",
    "        result+=i*3\n",
    "    return result"
   ]
  },
  {
   "cell_type": "code",
   "execution_count": 70,
   "id": "d3bb5f33",
   "metadata": {},
   "outputs": [
    {
     "data": {
      "text/plain": [
       "'KKKSSSAAA'"
      ]
     },
     "execution_count": 70,
     "metadata": {},
     "output_type": "execute_result"
    }
   ],
   "source": [
    "l_extra(\"KSA\")"
   ]
  },
  {
   "cell_type": "markdown",
   "id": "b5a9790f",
   "metadata": {},
   "source": [
    "3. BLACKJACK\n",
    "\n",
    "Given three integers between 1 and 11, if their sum is less than or equal to 21, return their sum.\n",
    "If their sum exceeds 21 and there's an eleven, reduce the total sum by 10. \n",
    "Finally, if the sum (even after adjustment) exceeds 21, return 'BUST'"
   ]
  },
  {
   "cell_type": "code",
   "execution_count": 83,
   "id": "6d2467fb",
   "metadata": {},
   "outputs": [],
   "source": [
    "\n",
    "def blackjack_sum(a, b, c):\n",
    "    total_sum = a + b + c\n",
    "    if total_sum <= 21:\n",
    "        return total_sum\n",
    "    elif 11 in [a, b, c] and total_sum <= 31:\n",
    "        return total_sum - 10\n",
    "    else:\n",
    "        return 'BUST'"
   ]
  },
  {
   "cell_type": "markdown",
   "id": "721a6ff7",
   "metadata": {},
   "source": [
    "4. SUMMER OF '69: \n",
    "\n",
    "Return the sum of the numbers in the array, except ignore sections of numbers starting with a 6 and extending to the next 9 (every 6 will be followed by at least one 9). Return 0 for no numbers."
   ]
  },
  {
   "cell_type": "code",
   "execution_count": 1,
   "id": "cc84cae8",
   "metadata": {},
   "outputs": [],
   "source": [
    "def summer_69(list):\n",
    "    diff = []\n",
    "    for i in range(len(list)-1):\n",
    "        sum=0;\n",
    "        if(list[i]==6):\n",
    "            while(list[i]!=9):\n",
    "                diff.append(list[i])\n",
    "                sum+=list[i]\n",
    "            return sum"
   ]
  },
  {
   "cell_type": "markdown",
   "id": "b1e701ca",
   "metadata": {},
   "source": [
    "# CHALLENGING PROBLEMS\n",
    "1. Write a function that takes in a list of integers and returns True if it contains 007 in order"
   ]
  },
  {
   "cell_type": "code",
   "execution_count": 2,
   "id": "dfe64285",
   "metadata": {},
   "outputs": [],
   "source": [
    "def contains_007(nums):\n",
    "    pattern = [0,0,7]\n",
    "    index = 0\n",
    "    for num in nums:\n",
    "        if num == pattern[index]:\n",
    "            index+=1\n",
    "            if index == len(pattern):\n",
    "                return True\n",
    "    return False"
   ]
  },
  {
   "cell_type": "code",
   "execution_count": 4,
   "id": "e6291513",
   "metadata": {},
   "outputs": [
    {
     "data": {
      "text/plain": [
       "False"
      ]
     },
     "execution_count": 4,
     "metadata": {},
     "output_type": "execute_result"
    }
   ],
   "source": [
    "contains_007([1,2,4,0,7,5])"
   ]
  },
  {
   "cell_type": "markdown",
   "id": "4300e95e",
   "metadata": {},
   "source": [
    "2. COUNT PRIMES: \n",
    "\n",
    "Write a function that returns the number of prime numbers that exist up to and including a given number"
   ]
  },
  {
   "cell_type": "code",
   "execution_count": 10,
   "id": "3c673a71",
   "metadata": {},
   "outputs": [],
   "source": [
    "def is_prime(num):\n",
    "    if num <=1:\n",
    "        return False\n",
    "    for i in range(2, int(num**0.5)+1):\n",
    "        if num%i == 0:\n",
    "            return False\n",
    "    return True\n",
    "    \n",
    "def count_primes(n):\n",
    "    count=0\n",
    "    for num in range(2,n+1):\n",
    "        if is_prime(num):\n",
    "            count+=1\n",
    "    return count"
   ]
  },
  {
   "cell_type": "code",
   "execution_count": 12,
   "id": "f111fcdc",
   "metadata": {},
   "outputs": [
    {
     "data": {
      "text/plain": [
       "25"
      ]
     },
     "execution_count": 12,
     "metadata": {},
     "output_type": "execute_result"
    }
   ],
   "source": [
    "count_primes(100)"
   ]
  },
  {
   "cell_type": "code",
   "execution_count": null,
   "id": "6a17de9f",
   "metadata": {},
   "outputs": [],
   "source": [
    "# Write a function that takes in a single letter, and returns a 5x5 representation of that letter\n",
    "def letter_representation(letter):\n",
    "    letter = letter.upper()  # Convert letter to uppercase for consistency\n",
    "    representations = {\n",
    "        'A': ['  *  ', ' * * ', '*****', '*   *', '*   *'],\n",
    "        'B': ['**** ', '*   *', '**** ', '*   *', '**** '],\n",
    "        'C': [' ****', '*    ', '*    ', '*    ', ' ****'],\n",
    "        'D': ['**** ', '*   *', '*   *', '*   *', '**** '],\n",
    "        'E': ['*****', '*    ', '*****', '*    ', '*****'],\n",
    "        'F': ['*****', '*    ', '*****', '*    ', '*    '],\n",
    "        'G': [' ****', '*    ', '*  **', '*   *', ' ****'],\n",
    "        'H': ['*   *', '*   *', '*****', '*   *', '*   *'],\n",
    "        'I': ['*****', '  *  ', '  *  ', '  *  ', '*****'],\n",
    "        'J': ['  ***', '    *', '    *', '*   *', ' *** '],\n",
    "        'K': ['*   *', '*  * ', '***  ', '*  * ', '*   *'],\n",
    "        'L': ['*    ', '*    ', '*    ', '*    ', '*****'],\n",
    "        'M': ['*   *', '** **', '* * *', '*   *', '*   *'],\n",
    "        'N': ['*   *', '**  *', '* * *', '*  **', '*   *'],\n",
    "        'O': [' *** ', '*   *', '*   *', '*   *', ' *** '],\n",
    "        'P': ['**** ', '*   *', '**** ', '*    ', '*    '],\n",
    "        'Q': [' *** ', '*   *', '* * *', '*  **', ' *** '],\n",
    "        'R': ['**** ', '*   *', '**** ', '*  * ', '*   *'],\n",
    "        'S': [' ****', '*    ', ' *** ', '    *', '**** '],\n",
    "        'T': ['*****', '  *  ', '  *  ', '  *  ', '  *  '],\n",
    "        'U': ['*   *', '*   *', '*   *', '*   *', ' *** '],\n",
    "        'V': ['*   *', '*   *', '*   *', ' * * ', '  *  '],\n",
    "        'W': ['*   *', '*   *', '* * *', '** **', '*   *'],\n",
    "        'X': ['*   *', ' * * ', '  *  ', ' * * ', '*   *'],\n",
    "        'Y': ['*   *', ' * * ', '  *  ', '  *  ', '  *  '],\n",
    "        'Z': ['*****', '   * ', '  *  ', ' *   ', '*****'],\n",
    "    }\n",
    "    return representations.get(letter, [])"
   ]
  }
 ],
 "metadata": {
  "kernelspec": {
   "display_name": "detectionz",
   "language": "python",
   "name": "detectionz"
  },
  "language_info": {
   "codemirror_mode": {
    "name": "ipython",
    "version": 3
   },
   "file_extension": ".py",
   "mimetype": "text/x-python",
   "name": "python",
   "nbconvert_exporter": "python",
   "pygments_lexer": "ipython3",
   "version": "3.9.16"
  }
 },
 "nbformat": 4,
 "nbformat_minor": 5
}
