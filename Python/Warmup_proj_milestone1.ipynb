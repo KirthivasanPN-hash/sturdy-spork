{
 "cells": [
  {
   "cell_type": "markdown",
   "id": "aaf9f86f",
   "metadata": {},
   "source": [
    "# Warm-Up project excercises\n"
   ]
  },
  {
   "cell_type": "code",
   "execution_count": 2,
   "id": "1fae0637",
   "metadata": {},
   "outputs": [
    {
     "data": {
      "text/plain": [
       "(1, 2, 3, 4)"
      ]
     },
     "execution_count": 2,
     "metadata": {},
     "output_type": "execute_result"
    }
   ],
   "source": [
    "# display list using argws\n",
    "\n",
    "def my_func(*args):\n",
    "    return args\n",
    "\n",
    "my_func(1,2,3,4)\n"
   ]
  },
  {
   "cell_type": "code",
   "execution_count": 6,
   "id": "51c1d013",
   "metadata": {},
   "outputs": [
    {
     "name": "stdout",
     "output_type": "stream",
     "text": [
      "Please enter a value: 2\n"
     ]
    },
    {
     "data": {
      "text/plain": [
       "2"
      ]
     },
     "execution_count": 6,
     "metadata": {},
     "output_type": "execute_result"
    }
   ],
   "source": [
    "# Accepting inputss\n",
    "\n",
    "def inp():\n",
    "    res = int(input(\"Please enter a value: \"))\n",
    "    return res\n",
    "\n",
    "inp()"
   ]
  },
  {
   "cell_type": "markdown",
   "id": "5e5e17d3",
   "metadata": {},
   "source": [
    "## Validating User input"
   ]
  },
  {
   "cell_type": "code",
   "execution_count": 11,
   "id": "bed20826",
   "metadata": {},
   "outputs": [
    {
     "data": {
      "text/plain": [
       "True"
      ]
     },
     "execution_count": 11,
     "metadata": {},
     "output_type": "execute_result"
    }
   ],
   "source": [
    "#advanced\n",
    "# try:\n",
    "#     val = int(userInput)\n",
    "# except ValueError:\n",
    "#     print(\"That's not an int!\")\n",
    "\n",
    "# using a function\n",
    "# def check_int(s):\n",
    "#     if s[0] in ('-', '+'):\n",
    "#         return s[1:].isdigit()\n",
    "#     return s.isdigit()\n",
    "\n",
    "'10'.isdigit()"
   ]
  },
  {
   "cell_type": "code",
   "execution_count": 2,
   "id": "3862ee9b",
   "metadata": {},
   "outputs": [
    {
     "name": "stdout",
     "output_type": "stream",
     "text": [
      "enter a string 1\n",
      "enter another string :2\n",
      "enter another string :wert\n"
     ]
    },
    {
     "data": {
      "text/plain": [
       "'wert'"
      ]
     },
     "execution_count": 2,
     "metadata": {},
     "output_type": "execute_result"
    }
   ],
   "source": [
    "# check type of input\n",
    "def str_chek():\n",
    "    choice = input(\"enter a string \")\n",
    "    while choice.isdigit() == True:\n",
    "        choice = input(\"enter another string :\")\n",
    "        \n",
    "    return choice\n",
    "\n",
    "str_chek()"
   ]
  },
  {
   "cell_type": "code",
   "execution_count": 4,
   "id": "bf92dbf4",
   "metadata": {},
   "outputs": [
    {
     "name": "stdout",
     "output_type": "stream",
     "text": [
      "Choose a number: wert\n",
      "Sorry, but you did not enter an integer. Please try again.\n",
      "Choose a number: 1\n"
     ]
    },
    {
     "data": {
      "text/plain": [
       "1"
      ]
     },
     "execution_count": 4,
     "metadata": {},
     "output_type": "execute_result"
    }
   ],
   "source": [
    "def user_choice():\n",
    "    \n",
    "    # This original choice value can be anything that isn't an integer\n",
    "    choice = 'wrong'\n",
    "    \n",
    "    # While the choice is not a digit, keep asking for input.\n",
    "    while choice.isdigit() == False:\n",
    "        \n",
    "        # we shouldn't convert here, otherwise we get an error on a wrong input\n",
    "        choice = input(\"Choose a number: \")\n",
    "        \n",
    "        # Error Message Check\n",
    "        if choice.isdigit() == False:\n",
    "            print(\"Sorry, but you did not enter an integer. Please try again.\")\n",
    "    \n",
    "    # We can convert once the while loop above has confirmed we have a digit.\n",
    "    return int(choice)\n",
    "\n",
    "user_choice()"
   ]
  },
  {
   "cell_type": "code",
   "execution_count": 6,
   "id": "afff0e56",
   "metadata": {},
   "outputs": [
    {
     "name": "stdout",
     "output_type": "stream",
     "text": [
      "Sorry, but you did not enter an integer. Please try again.\n",
      "Choose a number: 23\n"
     ]
    },
    {
     "data": {
      "text/plain": [
       "23"
      ]
     },
     "execution_count": 6,
     "metadata": {},
     "output_type": "execute_result"
    }
   ],
   "source": [
    "from IPython.display import clear_output\n",
    "clear_output()\n",
    "\n",
    "def user_choice():\n",
    "    \n",
    "    # This original choice value can be anything that isn't an integer\n",
    "    choice = 'wrong'\n",
    "    \n",
    "    # While the choice is not a digit, keep asking for input.\n",
    "    while choice.isdigit() == False:\n",
    "        \n",
    "        # we shouldn't convert here, otherwise we get an error on a wrong input\n",
    "        choice = input(\"Choose a number: \")\n",
    "        \n",
    "        if choice.isdigit() == False:\n",
    "            # THIS CLEARS THE CURRENT OUTPUT BELOW THE CELL\n",
    "            clear_output()\n",
    "            \n",
    "            print(\"Sorry, but you did not enter an integer. Please try again.\")\n",
    "            \n",
    "    \n",
    "    # Optionally you can clear everything after running the function\n",
    "    # clear_output()\n",
    "    \n",
    "    # We can convert once the while loop above has confirmed we have a digit.\n",
    "    return int(choice)\n",
    "\n",
    "user_choice()"
   ]
  },
  {
   "cell_type": "code",
   "execution_count": 1,
   "id": "b88d23c7",
   "metadata": {},
   "outputs": [
    {
     "name": "stdout",
     "output_type": "stream",
     "text": [
      "enter a number within (0-10): we\n",
      "Oops try again!\n",
      "enter a number within (0-10): 1\n"
     ]
    },
    {
     "data": {
      "text/plain": [
       "1"
      ]
     },
     "execution_count": 1,
     "metadata": {},
     "output_type": "execute_result"
    }
   ],
   "source": [
    "# Another example\n",
    "\n",
    "def choice_chk():\n",
    "    choice = 'false'\n",
    "    within_range = False\n",
    "    while choice.isdigit()== False or within_range==False:\n",
    "        \n",
    "        choice = input(\"enter a number within (0-10): \")\n",
    "        if choice.isdigit() == False:\n",
    "            print(\"Oops try again!\")\n",
    "        \n",
    "        if choice.isdigit() ==True:\n",
    "            if int(choice) in range(0,10): # if int(choice) in within_range is wrong coz within_range is bool\n",
    "                within_range=True\n",
    "            else:\n",
    "                within_range=False\n",
    "    return int(choice)\n",
    "\n",
    "choice_chk()\n",
    "    \n",
    "                \n",
    "        "
   ]
  },
  {
   "cell_type": "markdown",
   "id": "3e29445c",
   "metadata": {},
   "source": [
    "# Small game to enter user's choice\n",
    "## Combining all the methods"
   ]
  },
  {
   "cell_type": "code",
   "execution_count": 4,
   "id": "a05b08d1",
   "metadata": {},
   "outputs": [
    {
     "name": "stdout",
     "output_type": "stream",
     "text": [
      "['hi', 'hehe', 'mee', '3']\n",
      "Would u like to play a game: Y or N? N\n"
     ]
    }
   ],
   "source": [
    "# steps involved:\n",
    "# function to get a choice and list\n",
    "# function to check within range\n",
    "# function to alter position\n",
    "\n",
    "from IPython.display import clear_output\n",
    "clear_output()\n",
    "\n",
    "def input_c():\n",
    "    lists = input(\"Enter a list of vales separated by commas: \")\n",
    "    global my_lists \n",
    "    my_lists = lists.split(',')\n",
    "    print(\"the entered list is :\",lists)\n",
    "\n",
    "def ranges():\n",
    "    choice = 'false'\n",
    "    within_range = False\n",
    "    while choice.isdigit()==False or within_range==False:\n",
    "        choice = input(\"Enter a position within the range: \")\n",
    "        if choice.isdigit() == False:\n",
    "            print(\"Oops enter a valid digit!\")\n",
    "        \n",
    "        if choice.isdigit() == True:\n",
    "            \n",
    "            if int(choice) in range(len(my_lists)):\n",
    "                within_range = True\n",
    "            else:\n",
    "                within_range = False\n",
    "        \n",
    "    return int(choice)\n",
    "\n",
    "def replacement_choice(my_lists,position):\n",
    "    user_choice = input(\"enter a string to replace: \")\n",
    "    my_lists[position] = user_choice\n",
    "    return my_lists\n",
    "\n",
    "def gameon_choice():\n",
    "    option = 'f'\n",
    "    while option not in ['Y','N']:\n",
    "        option = input(\"Would u like to play a game: Y or N? \")\n",
    "        \n",
    "        if option not in ['Y','N']:\n",
    "            # THIS CLEARS THE CURRENT OUTPUT BELOW THE CELL\n",
    "            clear_output()\n",
    "            print(\"Sorry, I didn't understand. Please make sure to choose Y or N.\")\n",
    "            \n",
    "            \n",
    "        # Optionally you can clear everything after running the function\n",
    "    # clear_output()\n",
    "    \n",
    "    if option == \"Y\":\n",
    "        return True\n",
    "    else:\n",
    "        return False\n",
    "    \n",
    "\n",
    "# Variable to keep game playing\n",
    "game_on = True\n",
    "\n",
    "# First Game List\n",
    "\n",
    "while game_on:\n",
    "    clear_output()\n",
    "    \n",
    "    input_c()\n",
    "    \n",
    "    position = ranges()\n",
    "    \n",
    "    lists = replacement_choice(my_lists,position)\n",
    "    \n",
    "    clear_output()\n",
    "    \n",
    "    print(lists)\n",
    "    \n",
    "    game_on = gameon_choice()\n",
    "    \n",
    "    \n",
    "    \n",
    "    \n",
    "# ['hi','hello','mee',3]"
   ]
  }
 ],
 "metadata": {
  "kernelspec": {
   "display_name": "detectionz",
   "language": "python",
   "name": "detectionz"
  },
  "language_info": {
   "codemirror_mode": {
    "name": "ipython",
    "version": 3
   },
   "file_extension": ".py",
   "mimetype": "text/x-python",
   "name": "python",
   "nbconvert_exporter": "python",
   "pygments_lexer": "ipython3",
   "version": "3.9.16"
  }
 },
 "nbformat": 4,
 "nbformat_minor": 5
}
