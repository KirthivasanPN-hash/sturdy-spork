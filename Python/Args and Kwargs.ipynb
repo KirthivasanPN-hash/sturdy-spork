{
 "cells": [
  {
   "cell_type": "markdown",
   "id": "8c5540c9",
   "metadata": {},
   "source": [
    "# *args and **kwargs\n",
    "\n",
    "## *args\n",
    "\n",
    "When a function parameter starts with an asterisk, it allows for an arbitrary number of arguments, and the function takes them in as a tuple of values. Rewriting the above function:"
   ]
  },
  {
   "cell_type": "code",
   "execution_count": 3,
   "id": "1842405e",
   "metadata": {},
   "outputs": [
    {
     "data": {
      "text/plain": [
       "7.5"
      ]
     },
     "execution_count": 3,
     "metadata": {},
     "output_type": "execute_result"
    }
   ],
   "source": [
    "def half_sums(*args):\n",
    "    return sum(args)*.05\n",
    "\n",
    "half_sums(40,50,60)"
   ]
  },
  {
   "cell_type": "code",
   "execution_count": 4,
   "id": "ab802b7d",
   "metadata": {},
   "outputs": [
    {
     "data": {
      "text/plain": [
       "7.5"
      ]
     },
     "execution_count": 4,
     "metadata": {},
     "output_type": "execute_result"
    }
   ],
   "source": [
    "# t is worth noting that the word \"args\" is itself arbitrary \n",
    "# any word will do so long as it's preceded by an asterisk. To demonstrate this:\n",
    "\n",
    "def half_sums(*yeahboi):\n",
    "    return sum(yeahboi)*.05\n",
    "\n",
    "half_sums(40,50,60)\n"
   ]
  },
  {
   "cell_type": "markdown",
   "id": "8780dc68",
   "metadata": {},
   "source": [
    "## **kwargs\n",
    "\n",
    "Python offers a way to handle arbitrary numbers of keyworded arguments. Instead of creating a tuple of values, **kwargs builds a dictionary of key/value pairs**. For example:"
   ]
  },
  {
   "cell_type": "code",
   "execution_count": 8,
   "id": "ac3cd16d",
   "metadata": {},
   "outputs": [
    {
     "name": "stdout",
     "output_type": "stream",
     "text": [
      "My favourite veggie is Cucumber\n"
     ]
    }
   ],
   "source": [
    "def find_veggie(**kwargs):\n",
    "    if 'veggie' in kwargs:\n",
    "        print(f\"My favourite veggie is {kwargs['veggie']}\")\n",
    "    else:\n",
    "        print(\"I don't like that veggie\")\n",
    "\n",
    "find_veggie(veggie='Cucumber')"
   ]
  },
  {
   "cell_type": "code",
   "execution_count": 10,
   "id": "ba3eeb96",
   "metadata": {},
   "outputs": [
    {
     "name": "stdout",
     "output_type": "stream",
     "text": [
      "My favourite veggie is apple\n"
     ]
    }
   ],
   "source": [
    "find_veggie(veggie = 'apple')"
   ]
  },
  {
   "cell_type": "code",
   "execution_count": 11,
   "id": "c10e50d7",
   "metadata": {},
   "outputs": [
    {
     "name": "stdout",
     "output_type": "stream",
     "text": [
      "I don't like that veggie\n"
     ]
    }
   ],
   "source": [
    "find_veggie()"
   ]
  },
  {
   "cell_type": "markdown",
   "id": "84fa36c9",
   "metadata": {},
   "source": [
    "\n",
    "## *args and **kwargs combined\n",
    "\n",
    "You can pass *args and **kwargs into the same function, but *args have to appear before **kwargs\n"
   ]
  },
  {
   "cell_type": "code",
   "execution_count": 12,
   "id": "4c05f949",
   "metadata": {},
   "outputs": [
    {
     "name": "stdout",
     "output_type": "stream",
     "text": [
      "I like eggs and spam and my favorite fruit is cherries\n",
      "May I have some orange juice?\n"
     ]
    }
   ],
   "source": [
    "def myfunc(*args, **kwargs):\n",
    "    if 'fruit' and 'juice' in kwargs:\n",
    "        print(f\"I like {' and '.join(args)} and my favorite fruit is {kwargs['fruit']}\")\n",
    "        print(f\"May I have some {kwargs['juice']} juice?\")\n",
    "    else:\n",
    "        pass\n",
    "        \n",
    "myfunc('eggs','spam',fruit='cherries',juice='orange')\n",
    "\n"
   ]
  },
  {
   "cell_type": "code",
   "execution_count": 13,
   "id": "49c6c1d1",
   "metadata": {},
   "outputs": [
    {
     "ename": "SyntaxError",
     "evalue": "positional argument follows keyword argument (2182426758.py, line 1)",
     "output_type": "error",
     "traceback": [
      "\u001b[1;36m  Cell \u001b[1;32mIn[13], line 1\u001b[1;36m\u001b[0m\n\u001b[1;33m    myfunc(fruit='cherries',juice='orange','eggs','spam')\u001b[0m\n\u001b[1;37m                                                        ^\u001b[0m\n\u001b[1;31mSyntaxError\u001b[0m\u001b[1;31m:\u001b[0m positional argument follows keyword argument\n"
     ]
    }
   ],
   "source": [
    "myfunc(fruit='cherries',juice='orange','eggs','spam')"
   ]
  },
  {
   "cell_type": "code",
   "execution_count": null,
   "id": "227f27e6",
   "metadata": {},
   "outputs": [],
   "source": []
  }
 ],
 "metadata": {
  "kernelspec": {
   "display_name": "detectionz",
   "language": "python",
   "name": "detectionz"
  },
  "language_info": {
   "codemirror_mode": {
    "name": "ipython",
    "version": 3
   },
   "file_extension": ".py",
   "mimetype": "text/x-python",
   "name": "python",
   "nbconvert_exporter": "python",
   "pygments_lexer": "ipython3",
   "version": "3.9.16"
  }
 },
 "nbformat": 4,
 "nbformat_minor": 5
}
